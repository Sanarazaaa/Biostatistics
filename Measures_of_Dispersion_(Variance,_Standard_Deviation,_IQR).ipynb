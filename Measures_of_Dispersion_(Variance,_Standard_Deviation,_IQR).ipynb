{
  "nbformat": 4,
  "nbformat_minor": 0,
  "metadata": {
    "colab": {
      "provenance": [],
      "authorship_tag": "ABX9TyMNavGdOCyZHOE3AncDkb/x",
      "include_colab_link": true
    },
    "kernelspec": {
      "name": "python3",
      "display_name": "Python 3"
    },
    "language_info": {
      "name": "python"
    }
  },
  "cells": [
    {
      "cell_type": "markdown",
      "metadata": {
        "id": "view-in-github",
        "colab_type": "text"
      },
      "source": [
        "<a href=\"https://colab.research.google.com/github/Sanarazaaa/Biostatistics/blob/main/Measures_of_Dispersion_(Variance%2C_Standard_Deviation%2C_IQR).ipynb\" target=\"_parent\"><img src=\"https://colab.research.google.com/assets/colab-badge.svg\" alt=\"Open In Colab\"/></a>"
      ]
    },
    {
      "cell_type": "markdown",
      "source": [
        "# Variance:\n",
        "\n",
        "Measures how much the data points deviate from the mean on average (in squared units).\n",
        "\n",
        "# What does this do?\n",
        "\n",
        "- Gives a general sense of data spread.\n",
        "- Larger values indicate more dispersion.\n",
        "- Expressed in squared units, making it harder to interpret.\n",
        "\n",
        "# Standard Deviation:\n",
        "\n",
        "Square root of variance, providing dispersion in original units of data.\n",
        "\n",
        "# What does this do?\n",
        "\n",
        "\n",
        "- Directly interpretable because it's in the same unit as the data.\n",
        "- More commonly used than variance.\n",
        "\n",
        "# Interquartile Range (IQR):\n",
        "\n",
        "Measures the spread of the middle 50% of the data by taking the difference between the third quartile 𝑄3 and first quartile  𝑄1\n",
        "\n",
        "# What does this do?\n",
        "\n",
        "- Focuses only on the central portion of data.\n",
        "- Less sensitive to outliers compared to variance and standard deviation.\n",
        "- Used to detect outliers\n"
      ],
      "metadata": {
        "id": "giGFOxnK9j_v"
      }
    },
    {
      "cell_type": "code",
      "source": [
        "import statistics  # For variance & standard deviation\n",
        "import numpy as np  # For IQR\n",
        "import pandas as pd  # Optional: Useful for large datasets\n",
        "\n",
        "# Function to calculate Variance, Standard Deviation, and IQR\n",
        "def calculate_dispersion(data):\n",
        "    # Variance\n",
        "    variance = statistics.variance(data)  # Uses sample variance (n-1)\n",
        "\n",
        "    # Standard Deviation\n",
        "    std_dev = statistics.stdev(data)  # Square root of variance\n",
        "\n",
        "    # Interquartile Range (IQR)\n",
        "    Q1 = np.percentile(data, 25)  # First quartile (Q1)\n",
        "    Q3 = np.percentile(data, 75)  # Third quartile (Q3)\n",
        "    IQR = Q3 - Q1  # IQR formula\n",
        "\n",
        "    # Display results\n",
        "    print(f\"Data: {data}\")\n",
        "    print(f\"Variance: {variance:.2f}\")\n",
        "    print(f\"Standard Deviation: {std_dev:.2f}\")\n",
        "    print(f\"Interquartile Range (IQR): {IQR:.2f}\")\n",
        "\n",
        "# Example dataset (Modify as needed)\n",
        "data = [12, 15, 14, 10, 18, 20, 22, 19, 16, 17]\n",
        "\n",
        "# Call function\n",
        "calculate_dispersion(data)\n"
      ],
      "metadata": {
        "colab": {
          "base_uri": "https://localhost:8080/"
        },
        "id": "yjNAGLf_9kgo",
        "outputId": "f6bd58fe-0b9f-4793-d7ff-9b4e33fa1317"
      },
      "execution_count": 2,
      "outputs": [
        {
          "output_type": "stream",
          "name": "stdout",
          "text": [
            "Data: [12, 15, 14, 10, 18, 20, 22, 19, 16, 17]\n",
            "Variance: 13.57\n",
            "Standard Deviation: 3.68\n",
            "Interquartile Range (IQR): 4.50\n"
          ]
        }
      ]
    }
  ]
}